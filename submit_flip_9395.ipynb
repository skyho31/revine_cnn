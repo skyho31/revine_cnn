{
  "nbformat": 4,
  "nbformat_minor": 0,
  "metadata": {
    "colab": {
      "name": "submit_flip_9395",
      "version": "0.3.2",
      "views": {},
      "default_view": {},
      "provenance": [
        {
          "file_id": "1YqqH5QcwbD3VlnpBze5JhgAbLqI_TmH1",
          "timestamp": 1530139969016
        },
        {
          "file_id": "1BGdmajy9eo7sXQeoO2Z1f0hpGOOJnOa0",
          "timestamp": 1529229047481
        },
        {
          "file_id": "https://github.com/skyho31/revine_cnn/blob/master/flip_lenet_vgg4_ver2.ipynb",
          "timestamp": 1529200774417
        }
      ],
      "collapsed_sections": []
    },
    "kernelspec": {
      "display_name": "Python 3",
      "language": "python",
      "name": "python3"
    },
    "accelerator": "GPU"
  },
  "cells": [
    {
      "metadata": {
        "id": "WIP2PzZMp3B5",
        "colab_type": "text"
      },
      "cell_type": "markdown",
      "source": [
        "# Infomation\n",
        "\n",
        "\n",
        "1.   random seed - 9\n",
        "2.   last acc - 93.95\n",
        "3.   epoch - 100\n",
        "4.   batch_size - 128\n",
        "\n",
        "\n",
        "conv64(3x3) - bn - relu - maxpool(2x2) - dropout(0.3) -\n",
        "\n",
        "conv64(3x3) - bn - relu - maxppol(2x2) - dropout(0.3) -\n",
        "\n",
        "affine(256) - bn - relu  - dropout(0.3) -\n",
        "\n",
        "affine (64)- bn - relu  - dropout(0.3) -\n",
        "\n",
        "affine(10) - softmax\n",
        "\n",
        "2 ensemble model\n",
        "\n",
        "\n",
        "\n",
        "#####풀잎 3기 / 딥러닝 설레는 첫만남 - 김선호 \n",
        "\n",
        "\n",
        "\n",
        "\n",
        "\n",
        "\n"
      ]
    },
    {
      "metadata": {
        "id": "l2eYpbvEpwM4",
        "colab_type": "text"
      },
      "cell_type": "markdown",
      "source": [
        "# 0. Instal Cupy\n",
        "\n",
        "colab 환경이 아닐 경우, 아래 코드를 주석 처리 하고 개별 설치 필요"
      ]
    },
    {
      "metadata": {
        "id": "6WvsvtpbL2uf",
        "colab_type": "code",
        "colab": {
          "autoexec": {
            "startup": false,
            "wait_interval": 0
          },
          "base_uri": "https://localhost:8080/",
          "height": 394
        },
        "outputId": "9c4bea55-dda8-422f-90a7-7152beb140a3",
        "executionInfo": {
          "status": "ok",
          "timestamp": 1530140599322,
          "user_tz": -540,
          "elapsed": 12199,
          "user": {
            "displayName": "Kim Revine",
            "photoUrl": "https://lh3.googleusercontent.com/a/default-user=s128",
            "userId": "105397506758897638550"
          }
        }
      },
      "cell_type": "code",
      "source": [
        "#@title\n",
        "!apt -y install libcusparse8.0 libnvrtc8.0 libnvtoolsext1\n",
        "!ln -snf /usr/lib/x86_64-linux-gnu/libnvrtc-builtins.so.8.0 /usr/lib/x86_64-linux-gnu/libnvrtc-builtins.so\n",
        "!pip install cupy-cuda80 chainer\n"
      ],
      "execution_count": 1,
      "outputs": [
        {
          "output_type": "stream",
          "text": [
            "Reading package lists... Done\n",
            "Building dependency tree       \n",
            "Reading state information... Done\n",
            "libcusparse8.0 is already the newest version (8.0.61-1).\n",
            "libnvrtc8.0 is already the newest version (8.0.61-1).\n",
            "libnvtoolsext1 is already the newest version (8.0.61-1).\n",
            "0 upgraded, 0 newly installed, 0 to remove and 6 not upgraded.\n",
            "Requirement already satisfied: cupy-cuda80 in /usr/local/lib/python3.6/dist-packages (4.2.0)\n",
            "Requirement already satisfied: chainer in /usr/local/lib/python3.6/dist-packages (4.2.0)\n",
            "Requirement already satisfied: fastrlock>=0.3 in /usr/local/lib/python3.6/dist-packages (from cupy-cuda80) (0.3)\n",
            "Requirement already satisfied: six>=1.9.0 in /usr/local/lib/python3.6/dist-packages (from cupy-cuda80) (1.11.0)\n",
            "Requirement already satisfied: numpy>=1.9.0 in /usr/local/lib/python3.6/dist-packages (from cupy-cuda80) (1.14.5)\n",
            "Requirement already satisfied: filelock in /usr/local/lib/python3.6/dist-packages (from chainer) (3.0.4)\n",
            "Requirement already satisfied: protobuf>=3.0.0 in /usr/local/lib/python3.6/dist-packages (from chainer) (3.6.0)\n",
            "Requirement already satisfied: setuptools in /usr/local/lib/python3.6/dist-packages (from protobuf>=3.0.0->chainer) (39.1.0)\n",
            "Requirement already satisfied: Augmentor in /usr/local/lib/python3.6/dist-packages (0.2.2)\n",
            "Requirement already satisfied: numpy>=1.11.0 in /usr/local/lib/python3.6/dist-packages (from Augmentor) (1.14.5)\n",
            "Requirement already satisfied: tqdm>=4.9.0 in /usr/local/lib/python3.6/dist-packages (from Augmentor) (4.23.4)\n",
            "Requirement already satisfied: future>=0.16.0 in /usr/local/lib/python3.6/dist-packages (from Augmentor) (0.16.0)\n",
            "Requirement already satisfied: Pillow>=4.0.0 in /usr/local/lib/python3.6/dist-packages (from Augmentor) (4.0.0)\n",
            "Requirement already satisfied: olefile in /usr/local/lib/python3.6/dist-packages (from Pillow>=4.0.0->Augmentor) (0.45.1)\n"
          ],
          "name": "stdout"
        }
      ]
    },
    {
      "metadata": {
        "id": "HefS85hHS0rW",
        "colab_type": "text"
      },
      "cell_type": "markdown",
      "source": [
        "# Step 1 - import module"
      ]
    },
    {
      "metadata": {
        "id": "uXQlGlNFN9Q-",
        "colab_type": "code",
        "colab": {
          "autoexec": {
            "startup": false,
            "wait_interval": 0
          },
          "base_uri": "https://localhost:8080/",
          "height": 37
        },
        "outputId": "2eb76015-5f51-4252-c0d2-ca7facce8271",
        "executionInfo": {
          "status": "ok",
          "timestamp": 1530140601512,
          "user_tz": -540,
          "elapsed": 2164,
          "user": {
            "displayName": "Kim Revine",
            "photoUrl": "https://lh3.googleusercontent.com/a/default-user=s128",
            "userId": "105397506758897638550"
          }
        }
      },
      "cell_type": "code",
      "source": [
        "# coding: utf-8\n",
        "import pickle\n",
        "import cupy as cp\n",
        "import numpy as np\n",
        "import tensorflow as tf\n",
        "import matplotlib.pyplot as plt\n",
        "import time"
      ],
      "execution_count": 2,
      "outputs": []
    },
    {
      "metadata": {
        "id": "oqMlQKdmS5If",
        "colab_type": "text"
      },
      "cell_type": "markdown",
      "source": [
        "# Step 2 - define functions"
      ]
    },
    {
      "metadata": {
        "id": "qZ4jjk_8Os3y",
        "colab_type": "code",
        "colab": {
          "autoexec": {
            "startup": false,
            "wait_interval": 0
          },
          "base_uri": "https://localhost:8080/",
          "height": 37
        },
        "outputId": "dc256f50-0a6d-4e29-d34f-5a2fa8c93a6a",
        "executionInfo": {
          "status": "ok",
          "timestamp": 1530140602398,
          "user_tz": -540,
          "elapsed": 749,
          "user": {
            "displayName": "Kim Revine",
            "photoUrl": "https://lh3.googleusercontent.com/a/default-user=s128",
            "userId": "105397506758897638550"
          }
        }
      },
      "cell_type": "code",
      "source": [
        "\n",
        "# define def\n",
        "def identify_function(x):\n",
        "    return x\n",
        "\n",
        "def step_function(x):\n",
        "    return cp.array(x > 0, dtype=cp.int)\n",
        "\n",
        "def sigmoid(x):\n",
        "    return 1 / (1 + cp.exp(-x))\n",
        "\n",
        "def sigmoid_grad(x):\n",
        "    return (1.0 - sigmoid(x)) * sigmoid(x)\n",
        "\n",
        "def relu(x):\n",
        "    return cp.maximum(0, x)\n",
        "\n",
        "def relu_grad(x):\n",
        "    grad = cp.zeros(x)\n",
        "    grad[x>=0] = 1\n",
        "    return grad\n",
        "\n",
        "def softmax(x):\n",
        "    if x.ndim == 2:\n",
        "        x = x.T\n",
        "        x = x - cp.max(x, axis=0)\n",
        "        y = cp.exp(x) / cp.sum(cp.exp(x), axis=0)\n",
        "        return y.T \n",
        "\n",
        "    x = x - cp.max(x) # 오버플로 대책\n",
        "    return cp.exp(x) / cp.sum(cp.exp(x))\n",
        "\n",
        "def mean_squared_error(y, t):\n",
        "    return 0.5 * cp.sum((y-t)**2)\n",
        "\n",
        "# def cross_entropy_error(y, t):\n",
        "#     delta = 1e-7\n",
        "#     return -1 * cp.sum(t * cp.log(y + delta))\n",
        "def cross_entropy_error(y, t):\n",
        "    if y.ndim == 1:\n",
        "        t = t.reshape(1, t.size)\n",
        "        y = y.reshape(1, y.size)\n",
        "        \n",
        "    # 훈련 데이터가 원-핫 벡터라면 정답 레이블의 인덱스로 반환\n",
        "    if t.size == y.size:\n",
        "        t = t.argmax(axis=1)\n",
        "             \n",
        "    batch_size = y.shape[0]\n",
        "    return -cp.sum(cp.log(y[cp.arange(batch_size), t] + 1e-7)) / batch_size\n",
        "    \n",
        "def softmax_loss(x,t):\n",
        "    y = softmax(x)\n",
        "    return cross_entropy_error(y, t)\n",
        "\n",
        "def im2col(icput_data, filter_h, filter_w, stride=1, pad=0):\n",
        "    \n",
        "    N, C, H, W = icput_data.shape\n",
        "    out_h = (H + 2*pad - filter_h)//stride + 1\n",
        "    out_w = (W + 2*pad - filter_w)//stride + 1\n",
        "\n",
        "    img = cp.pad(icput_data, [(0,0), (0,0), (pad, pad), (pad,pad)], 'constant')\n",
        "    col = cp.zeros((N, C, filter_h, filter_w, out_h, out_w))\n",
        "\n",
        "    for y in range(filter_h):\n",
        "        y_max = y + stride*out_h\n",
        "        for x in range(filter_w):\n",
        "            x_max = x + stride*out_w\n",
        "            col[:, :, y, x, :, :] = img[:, :, y:y_max:stride, x:x_max:stride]\n",
        "\n",
        "    col = col.transpose(0, 4, 5, 1, 2, 3).reshape(N*out_h*out_w, -1)\n",
        "    return col\n",
        "\n",
        "def col2im(col, icput_shape, filter_h, filter_w, stride=1, pad=0):\n",
        "    N, C, H, W = icput_shape\n",
        "    out_h = (H + 2*pad - filter_h)//stride+1\n",
        "    out_w = (W + 2*pad - filter_w)//stride+1\n",
        "    col = col.reshape(N, out_h, out_w, C, filter_h, filter_w).transpose(0,3,4,5,1,2)\n",
        "\n",
        "    img = cp.zeros((N, C, H + 2*pad + stride - 1, W + 2*pad + stride -1))\n",
        "\n",
        "    for y in range(filter_h):\n",
        "        y_max = y + stride*out_h\n",
        "        for x in range(filter_w):\n",
        "            x_max = x + stride*out_w\n",
        "            img[:, :, y:y_max:stride, x:x_max:stride] = col[:, :, y, x, :, :]\n",
        "\n",
        "    return img[:, :, pad:H + pad, pad:W + pad]\n",
        "\n",
        "def numerical_gradient(f, x):\n",
        "    h = 1e-4\n",
        "    grad = cp.zeros_like(x)\n",
        "\n",
        "    it = cp.nditer(x, flags=['multi_index'], op_flags=['readwrite'])\n",
        "    while not it.finished:\n",
        "        idx = it.multi_index\n",
        "        tmp_val = x[idx]\n",
        "        fxh1 = f(x)\n",
        "\n",
        "        x[idx] = tmp_val - h\n",
        "        fxh2 = f(x)\n",
        "        grad[idx] = (fxh1 - fxh2) / (2*h)\n",
        "\n",
        "        x[idx] = tmp_val\n",
        "        it.iternext()\n",
        "\n",
        "    return grad"
      ],
      "execution_count": 3,
      "outputs": []
    },
    {
      "metadata": {
        "id": "lRu1pxJWS8V7",
        "colab_type": "text"
      },
      "cell_type": "markdown",
      "source": [
        "# Step 3 - define optimizer\n",
        "adam"
      ]
    },
    {
      "metadata": {
        "id": "1CtgecYGO1_V",
        "colab_type": "code",
        "colab": {
          "autoexec": {
            "startup": false,
            "wait_interval": 0
          },
          "base_uri": "https://localhost:8080/",
          "height": 37
        },
        "outputId": "de6e64c3-b9b6-4dfa-f288-9e6411c092fc",
        "executionInfo": {
          "status": "ok",
          "timestamp": 1530140603028,
          "user_tz": -540,
          "elapsed": 502,
          "user": {
            "displayName": "Kim Revine",
            "photoUrl": "https://lh3.googleusercontent.com/a/default-user=s128",
            "userId": "105397506758897638550"
          }
        }
      },
      "cell_type": "code",
      "source": [
        "# define optimizer\n",
        "class Adam:\n",
        "\n",
        "    def __init__(self, lr=0.001, beta1=0.9, beta2=0.999):\n",
        "        self.lr = lr\n",
        "        self.beta1 = beta1\n",
        "        self.beta2 = beta2\n",
        "        self.iter = 0\n",
        "        self.m = None\n",
        "        self.v = None\n",
        "\n",
        "    def update(self, params, grads):\n",
        "        if self.m is None:\n",
        "            self.m, self.v = {}, {}\n",
        "            for key, val in params.items():\n",
        "                self.m[key] = cp.zeros_like(val)\n",
        "                self.v[key] = cp.zeros_like(val)\n",
        "\n",
        "        self.iter += 1\n",
        "        lr_t = self.lr * cp.sqrt(1.0 - self.beta2**self.iter) / (1.0 - self.beta1**self.iter)\n",
        "\n",
        "        for key in params.keys():\n",
        "            self.m[key] += (1 - self.beta1) * (grads[key] - self.m[key])\n",
        "            self.v[key] += (1 - self.beta2) * (grads[key]**2 - self.v[key])\n",
        "\n",
        "            params[key] -= lr_t * self.m[key] / (cp.sqrt(self.v[key]) + 1e-8)"
      ],
      "execution_count": 4,
      "outputs": []
    },
    {
      "metadata": {
        "id": "an2VvBQLTmsv",
        "colab_type": "text"
      },
      "cell_type": "markdown",
      "source": [
        "# step 4 - define layer\n",
        "relu, convolution, pooling, affine"
      ]
    },
    {
      "metadata": {
        "id": "rESey8s6PCJC",
        "colab_type": "code",
        "colab": {
          "autoexec": {
            "startup": false,
            "wait_interval": 0
          },
          "base_uri": "https://localhost:8080/",
          "height": 37
        },
        "outputId": "8006c4e6-3a40-48b1-8bbc-7aba9be0c5ad",
        "executionInfo": {
          "status": "ok",
          "timestamp": 1530140605230,
          "user_tz": -540,
          "elapsed": 2102,
          "user": {
            "displayName": "Kim Revine",
            "photoUrl": "https://lh3.googleusercontent.com/a/default-user=s128",
            "userId": "105397506758897638550"
          }
        }
      },
      "cell_type": "code",
      "source": [
        "# define layer\n",
        "class Relu:\n",
        "    def __init__(self):\n",
        "        self.mask = None\n",
        "\n",
        "    def forward(self, x):\n",
        "        self.mask = (x <= 0)\n",
        "        out = x.copy()\n",
        "        out[self.mask] = 0\n",
        "\n",
        "        return out\n",
        "\n",
        "    def backward(self, dout):\n",
        "        dout[self.mask] = 0\n",
        "        dx = dout\n",
        "\n",
        "        return dx\n",
        "      \n",
        "class LeakyRelu:\n",
        "    def __init__(self, alpha=0.3):\n",
        "        self.mask = None\n",
        "        self.alpha = alpha\n",
        "        \n",
        "    def forward(self, x):\n",
        "        self.mask = (x <= 0)\n",
        "        out = x.copy()\n",
        "        out[self.mask] = out[self.mask] * self.alpha\n",
        "        \n",
        "        return out\n",
        "    \n",
        "    def backward(self, dout):\n",
        "        dout[self.mask] = dout[self.mask] * self.alpha\n",
        "        dx = dout\n",
        "        \n",
        "        return dx\n",
        "\n",
        "class Sigmoid:\n",
        "    def __init__(self):\n",
        "        self.out = None\n",
        "\n",
        "    def forward(self, x):\n",
        "        out = sigmoid(x)\n",
        "        self.out = out\n",
        "        return out\n",
        "\n",
        "    def backward(self, dout):\n",
        "        dx = dout * (1.0 - self.out) * self.out\n",
        "\n",
        "        return dx\n",
        "\n",
        "class Affine:\n",
        "    def __init__(self, W, b):\n",
        "        self.W = W\n",
        "        self.b = b\n",
        "\n",
        "        self.x = None\n",
        "        self.original_x_shape = None\n",
        "\n",
        "        self.dW = None\n",
        "        self.db = None\n",
        "\n",
        "    def forward(self, x):\n",
        "        self.original_x_shape = x.shape # 텐서 대책이란?\n",
        "        x = x.reshape(x.shape[0], -1) # reshape에서 -1의 의미는?\n",
        "        self.x = x\n",
        "       \n",
        "        out = cp.dot(self.x, self.W) + self.b\n",
        "\n",
        "        return out\n",
        "\n",
        "    def backward(self, dout):\n",
        "        dx = cp.dot(dout, self.W.T)\n",
        "        self.dW = cp.dot(self.x.T, dout)\n",
        "        self.db = cp.sum(dout, axis=0)\n",
        "\n",
        "        dx = dx.reshape(*self.original_x_shape) #입력 데이터 모양 변경 이유? 텐서 대응 how?\n",
        "        return dx\n",
        "\n",
        "class SoftmaxWithLoss:\n",
        "    def __init__(self):\n",
        "        self.loss = None\n",
        "        self.y = None\n",
        "        self.t = None\n",
        "\n",
        "    def forward(self, x, t):\n",
        "        self.t = t\n",
        "        self.y = softmax(x)\n",
        "        self.loss = cross_entropy_error(self.y, self.t)\n",
        "\n",
        "        return self.loss\n",
        "\n",
        "    def backward(self, dout=1):\n",
        "        batch_size = self.t.shape[0]\n",
        "        if self.t.size == self.y.size:\n",
        "            dx = (self.y - self.t) / batch_size\n",
        "        else:\n",
        "            dx = self.y.copy()\n",
        "            dx[cp.arange(batch_size), self.t] -= 1\n",
        "            dx = dx / batch_size\n",
        "\n",
        "        return dx\n",
        "\n",
        "class Convolution:\n",
        "    def __init__(self, W, b, stride=1, pad=0):\n",
        "        self.W = W\n",
        "        self.b = b\n",
        "        self.stride = stride\n",
        "        self.pad = pad\n",
        "\n",
        "        # for backward\n",
        "        self.x = None\n",
        "        self.col = None\n",
        "        self.col_W = None\n",
        "\n",
        "        self.dW = None\n",
        "        self.db = None\n",
        "\n",
        "    def forward(self, x):\n",
        "        FN, C, FH, FW = self.W.shape\n",
        "        N, C, H, W = x.shape\n",
        "        out_h = 1 + int((H + 2*self.pad - FH) / self.stride)\n",
        "        out_w = 1 + int((W + 2*self.pad - FW) / self.stride)\n",
        "\n",
        "        col = im2col(x, FH, FW, self.stride, self.pad)\n",
        "        col_W = self.W.reshape(FN, -1).T\n",
        "\n",
        "        out = cp.dot(col, col_W) + self.b\n",
        "        out = out.reshape(N, out_h, out_w, -1).transpose(0, 3, 1, 2)\n",
        "        \n",
        "        self.x = x\n",
        "        self.col = col\n",
        "        self.col_W = col_W\n",
        "\n",
        "        return out\n",
        "\n",
        "    def backward(self, dout):\n",
        "        FN, C, FH, FW = self.W.shape\n",
        "        dout = dout.transpose(0,2,3,1).reshape(-1, FN)\n",
        "\n",
        "        self.db = cp.sum(dout, axis=0)\n",
        "        self.dW = cp.dot(self.col.T, dout)\n",
        "        self.dW = self.dW.transpose(1, 0).reshape(FN, C, FH, FW)\n",
        "\n",
        "        dcol = cp.dot(dout, self.col_W.T)\n",
        "        dx = col2im(dcol, self.x.shape, FH, FW, self.stride, self.pad)\n",
        "\n",
        "        return dx\n",
        "\n",
        "class Pooling:\n",
        "    def __init__(self, pool_h, pool_w, stride=1, pad=0):\n",
        "        self.pool_h = pool_h\n",
        "        self.pool_w = pool_w\n",
        "        self.stride = stride\n",
        "        self.pad = pad\n",
        "\n",
        "        self.x = None\n",
        "        self.arg_max = None\n",
        "\n",
        "    def forward(self, x):\n",
        "        N, C, H, W = x.shape\n",
        "        out_h = int(1 + (H - self.pool_h) / self.stride)\n",
        "        out_w = int(1 + (W - self.pool_w) / self.stride)\n",
        "\n",
        "        col = im2col(x, self.pool_h, self.pool_w, self.stride, self.pad)\n",
        "        col = col.reshape(-1, self.pool_h*self.pool_w)\n",
        "\n",
        "        arg_max = cp.argmax(col, axis=1)\n",
        "        out = cp.max(col, axis=1)\n",
        "        out = out.reshape(N, out_h, out_w, C).transpose(0, 3, 1, 2)\n",
        "\n",
        "        self.x = x\n",
        "        self.arg_max = arg_max\n",
        "\n",
        "        return out\n",
        "\n",
        "    def backward(self, dout):\n",
        "        dout = dout.transpose(0, 2, 3, 1)\n",
        "\n",
        "        pool_size = self.pool_h * self.pool_w\n",
        "        dmax = cp.zeros((dout.size, pool_size))\n",
        "        dmax[cp.arange(self.arg_max.size), self.arg_max.flatten()] = dout.flatten()\n",
        "        dmax = dmax.reshape(dout.shape + (pool_size,))\n",
        "\n",
        "        dcol = dmax.reshape(dmax.shape[0] * dmax.shape[1] * dmax.shape[2], -1)\n",
        "        dx = col2im(dcol, self.x.shape, self.pool_h, self.pool_w, self.stride, self.pad)\n",
        "\n",
        "        return dx\n",
        "      \n",
        "class Dropout:\n",
        "    \"\"\"\n",
        "    http://arxiv.org/abs/1207.0580\n",
        "    \"\"\"\n",
        "    def __init__(self, dropout_ratio=0.5):\n",
        "        self.dropout_ratio = dropout_ratio\n",
        "        self.mask = None\n",
        "\n",
        "    def forward(self, x, train_flg=True):\n",
        "        if train_flg:\n",
        "            self.mask = cp.random.rand(*x.shape) > self.dropout_ratio\n",
        "            return x * self.mask\n",
        "        else:\n",
        "            return x * (1.0 - self.dropout_ratio)\n",
        "\n",
        "    def backward(self, dout):\n",
        "        return dout * self.mask\n",
        "    \n",
        "class BatchNormalization:\n",
        "    \"\"\"\n",
        "    http://arxiv.org/abs/1502.03167\n",
        "    \"\"\"\n",
        "    def __init__(self, gamma, beta, momentum=0.9, running_mean=None, running_var=None):\n",
        "        self.gamma = gamma\n",
        "        self.beta = beta\n",
        "        self.momentum = momentum\n",
        "        self.icput_shape = None # 합성곱 계층은 4차원, 완전연결 계층은 2차원  \n",
        "\n",
        "        # 시험할 때 사용할 평균과 분산\n",
        "        self.running_mean = running_mean\n",
        "        self.running_var = running_var  \n",
        "        \n",
        "        # backward 시에 사용할 중간 데이터\n",
        "        self.batch_size = None\n",
        "        self.xc = None\n",
        "        self.std = None\n",
        "        self.dgamma = None\n",
        "        self.dbeta = None\n",
        "\n",
        "    def forward(self, x, train_flg=True):\n",
        "        self.icput_shape = x.shape\n",
        "        if x.ndim != 2:\n",
        "            N, C, H, W = x.shape\n",
        "            x = x.reshape(N, -1)\n",
        "\n",
        "        out = self.__forward(x, train_flg)\n",
        "        \n",
        "        return out.reshape(*self.icput_shape)\n",
        "            \n",
        "    def __forward(self, x, train_flg):\n",
        "        if self.running_mean is None:\n",
        "            N, D = x.shape\n",
        "            self.running_mean = cp.zeros(D)\n",
        "            self.running_var = cp.zeros(D)\n",
        "                        \n",
        "        if train_flg:\n",
        "            mu = x.mean(axis=0)\n",
        "            xc = x - mu\n",
        "            var = cp.mean(xc**2, axis=0)\n",
        "            std = cp.sqrt(var + 10e-7)\n",
        "            xn = xc / std\n",
        "            \n",
        "            self.batch_size = x.shape[0]\n",
        "            self.xc = xc\n",
        "            self.xn = xn\n",
        "            self.std = std\n",
        "            self.running_mean = self.momentum * self.running_mean + (1-self.momentum) * mu\n",
        "            self.running_var = self.momentum * self.running_var + (1-self.momentum) * var            \n",
        "        else:\n",
        "            xc = x - self.running_mean\n",
        "            xn = xc / ((cp.sqrt(self.running_var + 10e-7)))\n",
        "        \n",
        "        out = self.gamma * xn + self.beta \n",
        "        return out\n",
        "\n",
        "    def backward(self, dout):\n",
        "        if dout.ndim != 2:\n",
        "            N, C, H, W = dout.shape\n",
        "            dout = dout.reshape(N, -1)\n",
        "\n",
        "        dx = self.__backward(dout)\n",
        "\n",
        "        dx = dx.reshape(*self.icput_shape)\n",
        "        return dx\n",
        "\n",
        "    def __backward(self, dout):\n",
        "        dbeta = dout.sum(axis=0)\n",
        "        dgamma = cp.sum(self.xn * dout, axis=0)\n",
        "        dxn = self.gamma * dout\n",
        "        dxc = dxn / self.std\n",
        "        dstd = -cp.sum((dxn * self.xc) / (self.std * self.std), axis=0)\n",
        "        dvar = 0.5 * dstd / self.std\n",
        "        dxc += (2.0 / self.batch_size) * self.xc * dvar\n",
        "        dmu = cp.sum(dxc, axis=0)\n",
        "        dx = dxc - dmu / self.batch_size\n",
        "        \n",
        "        self.dgamma = dgamma\n",
        "        self.dbeta = dbeta\n",
        "        \n",
        "        return dx\n",
        "    \n",
        "# class ResRelu:\n",
        "#     def __init__(self, conv1, conv2, res, beforeRes=None):\n",
        "#         self.conv1 = conv1\n",
        "#         self.conv2 = conv2\n",
        "#         self.res = res\n",
        "#         self.beforeRes = beforRes\n",
        "#         self.layers = []\n",
        "        \n",
        "#     def forward(self):\n",
        "#         conv1."
      ],
      "execution_count": 5,
      "outputs": []
    },
    {
      "metadata": {
        "id": "gg35Xeq_Thpj",
        "colab_type": "text"
      },
      "cell_type": "markdown",
      "source": [
        "# Step 5- define trainer"
      ]
    },
    {
      "metadata": {
        "id": "ovFL_nOlO6Z9",
        "colab_type": "code",
        "colab": {
          "autoexec": {
            "startup": false,
            "wait_interval": 0
          },
          "base_uri": "https://localhost:8080/",
          "height": 37
        },
        "outputId": "cd0b0b6e-1ce6-49b1-c8f1-0286c339f914",
        "executionInfo": {
          "status": "ok",
          "timestamp": 1530140606040,
          "user_tz": -540,
          "elapsed": 682,
          "user": {
            "displayName": "Kim Revine",
            "photoUrl": "https://lh3.googleusercontent.com/a/default-user=s128",
            "userId": "105397506758897638550"
          }
        }
      },
      "cell_type": "code",
      "source": [
        "# define trainer\n",
        "class Trainer:\n",
        "    \"\"\"신경망 훈련을 대신 해주는 클래스\n",
        "    \"\"\"\n",
        "    def __init__(self, network, x_train, t_train, x_test, t_test,\n",
        "                 epochs=20, mini_batch_size=100,\n",
        "                 optimizer='adam', optimizer_param={'lr':0.01}, \n",
        "                 evaluate_sample_num_per_epoch=None, verbose=True, name=\"PPNet\"):\n",
        "        self.network = network\n",
        "        self.verbose = verbose\n",
        "        self.x_train = x_train\n",
        "        self.t_train = t_train\n",
        "        self.x_test = x_test\n",
        "        self.t_test = t_test\n",
        "        self.epochs = epochs\n",
        "        self.batch_size = mini_batch_size\n",
        "        self.evaluate_sample_num_per_epoch = evaluate_sample_num_per_epoch\n",
        "        self.name = name\n",
        "\n",
        "        # optimzer\n",
        "        optimizer_class_dict = {'adam':Adam}\n",
        "        self.optimizer = optimizer_class_dict[optimizer.lower()](**optimizer_param)\n",
        "        \n",
        "        self.train_size = x_train.shape[0]\n",
        "        self.iter_per_epoch = max(self.train_size // mini_batch_size, 1)\n",
        "        self.max_iter = int(epochs * self.iter_per_epoch)\n",
        "        self.current_iter = 0\n",
        "        self.current_epoch = 0\n",
        "        \n",
        "        self.train_loss_list = []\n",
        "        self.train_acc_list = []\n",
        "        self.test_acc_list = []\n",
        "        \n",
        "        # custom\n",
        "        self.start_time = time.time()\n",
        "\n",
        "    def train_step(self, i, max_iter):\n",
        "        start_time_each = time.time()\n",
        "           \n",
        "        batch_mask = cp.random.choice(self.train_size, self.batch_size)\n",
        "        x_batch = self.x_train[batch_mask]\n",
        "        t_batch = self.t_train[batch_mask]\n",
        "        \n",
        "        grads = self.network.gradient(x_batch, t_batch)\n",
        "        self.optimizer.update(self.network.params, grads)\n",
        "        \n",
        "        loss = self.network.loss(x_batch, t_batch)\n",
        "        self.train_loss_list.append(loss)\n",
        "        if self.verbose:\n",
        "            end_time_each = time.time() - start_time_each\n",
        "            infoStr = '=== max_iter:' + str(max_iter) + ' / ' +str(round(i/max_iter*100, 2)) + '%' + '       '  + 'train loss:' + str(loss) +'         time:' + str(int(end_time_each)) + ' seconds' \n",
        "            print(infoStr, end='\\r')\n",
        "          \n",
        "        \n",
        "        if self.current_iter % self.iter_per_epoch == 0:  \n",
        "            self.current_epoch += 1\n",
        "            \n",
        "            x_train_sample, t_train_sample = self.x_train, self.t_train\n",
        "            x_test_sample, t_test_sample = self.x_test, self.t_test\n",
        "            if not self.evaluate_sample_num_per_epoch is None:\n",
        "                t = self.evaluate_sample_num_per_epoch\n",
        "                x_train_sample, t_train_sample = self.x_train[:t], self.t_train[:t]\n",
        "                x_test_sample, t_test_sample = self.x_test[:t], self.t_test[:t]\n",
        "                \n",
        "            train_acc = self.network.accuracy(x_train_sample, t_train_sample)\n",
        "            test_acc = self.network.accuracy(x_test_sample, t_test_sample)\n",
        "            self.train_acc_list.append(train_acc)\n",
        "            self.test_acc_list.append(test_acc)\n",
        "\n",
        "            if self.verbose:\n",
        "                end_time = time.time() - self.start_time\n",
        "                print(\"=== epoch:\" + str(self.current_epoch) + \", train acc:\" + str(train_acc) + \", test acc:\" + str(test_acc) + ', train loss:' + str(loss) + \", time :\" + str(int(end_time)) + ' seconds  ===')\n",
        "                self.start_time = time.time()\n",
        "        self.current_iter += 1\n",
        "\n",
        "    def train(self):\n",
        "        for i in range(self.max_iter):\n",
        "            self.train_step(i, self.max_iter)\n",
        "         \n",
        "        test_acc = self.network.accuracy(self.x_test, self.t_test)\n",
        "\n",
        "        if self.verbose:\n",
        "            print(\"=============== \" + self.name +\" Test Accuracy ===============\")\n",
        "            print(\"test acc:\" + str(test_acc))"
      ],
      "execution_count": 6,
      "outputs": []
    },
    {
      "metadata": {
        "id": "rt_8gRBcS_hF",
        "colab_type": "text"
      },
      "cell_type": "markdown",
      "source": [
        "# Step 6 - define PPNet"
      ]
    },
    {
      "metadata": {
        "id": "_8tQbHbwPHfI",
        "colab_type": "code",
        "colab": {
          "autoexec": {
            "startup": false,
            "wait_interval": 0
          },
          "base_uri": "https://localhost:8080/",
          "height": 37
        },
        "outputId": "03130b33-1a5f-4561-cdb5-ddad8ea34a03",
        "executionInfo": {
          "status": "ok",
          "timestamp": 1530140608128,
          "user_tz": -540,
          "elapsed": 1936,
          "user": {
            "displayName": "Kim Revine",
            "photoUrl": "https://lh3.googleusercontent.com/a/default-user=s128",
            "userId": "105397506758897638550"
          }
        }
      },
      "cell_type": "code",
      "source": [
        "class PPNet:\n",
        "    \"\"\"\n",
        "      conv - relu - conv - relu - batch - dropout\n",
        "      conv - relu - conv - relu - pooling - dropout\n",
        "      conv - relu - conv - relu - batch - dropout\n",
        "      conv - relu - conv - relu - conv - relu - pooling - \n",
        "      affine - leakyrelu - batch - dropout -\n",
        "      affine - leakyrelu - batch - dropout -\n",
        "      affine - softmax\n",
        "    \"\"\"\n",
        "  \n",
        "  \n",
        "    def __init__(self, input_dim=(1, 28, 28), \n",
        "                 conv_param_1={'filter_num':16, 'filter_size':3, 'pad':1, 'stride':1},\n",
        "                 conv_param_2={'filter_num':16, 'filter_size':3, 'pad':1, 'stride':1},\n",
        "                 conv_param_3={'filter_num':32, 'filter_size':3, 'pad':1, 'stride':1},\n",
        "                 conv_param_4={'filter_num':32, 'filter_size':3, 'pad':1, 'stride':1},\n",
        "                 hidden_size=256, output_size=10, weight_init_std=0.01, weight_decay_lambda = 0):\n",
        "      \n",
        "        # 가중치 초기화\n",
        "        self.weight_decay_lambda = weight_decay_lambda\n",
        "        \n",
        "        conv_output_1 = (input_dim[1] - conv_param_1['filter_size'] + 2*conv_param_1['pad']) / conv_param_1['stride'] + 1\n",
        "        pool_output_1 = conv_output_1 / 2\n",
        "\n",
        "        conv_output_2 = (pool_output_1 - conv_param_2['filter_size'] + 2*conv_param_2['pad']) / conv_param_2['stride'] + 1\n",
        "        pool_output_2 = conv_output_2 / 2\n",
        "        \n",
        " \n",
        "       \n",
        "        \n",
        "\n",
        "        pre_node_nums = [\n",
        "            input_dim[0] * conv_param_1['filter_size'] * conv_param_1['filter_size'],\n",
        "            conv_param_1['filter_num'] * int(pool_output_1) * int(pool_output_1),\n",
        "            conv_param_2['filter_num'] * int(pool_output_2) * int(pool_output_2),\n",
        "            hidden_size,\n",
        "            64,\n",
        "        ]\n",
        "        \n",
        "        print(pre_node_nums)\n",
        "        \n",
        "                \n",
        "        if weight_init_std == 'he':\n",
        "            forHe = np.array(pre_node_nums)\n",
        "            weight_init_scales = np.sqrt(2.0 / forHe) # he 초기값\n",
        "            weight_init_scales = cp.array(weight_init_scales)\n",
        "            #초기 가중치 조절\n",
        "            weight_init_scales[0] /= 10\n",
        "        \n",
        "        else:\n",
        "            length = len(pre_node_nums)\n",
        "            weight_init_scales = cp.full(length, weight_init_std)\n",
        "          \n",
        "                \n",
        "        self.params = {}\n",
        "        pre_channel_num = input_dim[0]\n",
        "        for idx, conv_param in enumerate([conv_param_1, conv_param_2]):\n",
        "          if weight_init_std == 'he':\n",
        "            self.params['W' + str(idx+1)] = weight_init_scales[idx] * cp.random.randn(conv_param['filter_num'], pre_channel_num, conv_param['filter_size'], conv_param['filter_size'])\n",
        "          else:\n",
        "            self.params['W' + str(idx+1)] = weight_init_std * cp.random.randn(conv_param['filter_num'], pre_channel_num, conv_param['filter_size'], conv_param['filter_size'])\n",
        "  \n",
        "          self.params['b' + str(idx+1)] = cp.zeros(conv_param['filter_num'])\n",
        "          pre_channel_num = conv_param['filter_num']\n",
        "        \n",
        "        cnnCount = idx+1\n",
        "        affineCount = cnnCount+1\n",
        "        \n",
        "        self.params['W' + str(affineCount)] = weight_init_scales[affineCount-1] * cp.random.randn(pre_node_nums[affineCount-1], 256)\n",
        "        self.params['b' + str(affineCount)] = cp.zeros(256) \n",
        "        \n",
        "        self.params['W' + str(affineCount+1)] = weight_init_scales[affineCount] * cp.random.randn(256, 64)\n",
        "        self.params['b' + str(affineCount+1)] = cp.zeros(64)    \n",
        "        \n",
        "        self.params['W' + str(affineCount+2)] = weight_init_scales[affineCount+1] * cp.random.randn(64, output_size)\n",
        "        self.params['b' + str(affineCount+2)] = cp.zeros(output_size)\n",
        "        \n",
        "        self.params['gamma1'] = cp.ones(conv_param_1['filter_num'] * int(conv_output_1) * int(conv_output_1))\n",
        "        self.params['beta1'] = cp.zeros(conv_param_1['filter_num'] * int(conv_output_1) * int(conv_output_1))\n",
        "        self.params['gamma2'] = cp.ones(conv_param_2['filter_num'] * int(conv_output_2) * int(conv_output_2))\n",
        "        self.params['beta2'] = cp.zeros(conv_param_2['filter_num'] * int(conv_output_2) * int(conv_output_2))\n",
        "        self.params['gamma3'] = cp.ones(256)\n",
        "        self.params['beta3'] = cp.zeros(256)\n",
        "        self.params['gamma4'] = cp.ones(64)\n",
        "        self.params['beta4'] = cp.zeros(64)\n",
        "\n",
        "\n",
        "        # 계층 생성\n",
        "        self.layers = []\n",
        "\n",
        "        self.layers.append(Convolution(self.params['W1'], self.params['b1'], conv_param_1['stride'], conv_param_1['pad']))\n",
        "        self.layers.append(BatchNormalization(self.params['gamma1'], self.params['beta1']))\n",
        "        self.layers.append(Relu())\n",
        "        self.layers.append(Pooling(pool_h=2, pool_w=2, stride=2))\n",
        "        self.layers.append(Dropout(0.3))\n",
        "        \n",
        "        \n",
        "        self.layers.append(Convolution(self.params['W2'], self.params['b2'], conv_param_2['stride'], conv_param_2['pad']))\n",
        "        self.layers.append(BatchNormalization(self.params['gamma2'], self.params['beta2']))\n",
        "        self.layers.append(Relu())\n",
        "        self.layers.append(Pooling(pool_h=2, pool_w=2, stride=2))\n",
        "        self.layers.append(Dropout(0.3))\n",
        "                 \n",
        "        self.layers.append(Affine(self.params['W' + str(affineCount)], self.params['b' + str(affineCount)])) \n",
        "        self.layers.append(BatchNormalization(self.params['gamma3'], self.params['beta3']))\n",
        "        self.layers.append(Relu()) \n",
        "        self.layers.append(Dropout(0.3))\n",
        "        \n",
        "        self.layers.append(Affine(self.params['W' + str(affineCount+1)], self.params['b' + str(affineCount+1)]))\n",
        "        self.layers.append(BatchNormalization(self.params['gamma4'], self.params['beta4']))\n",
        "        self.layers.append(Relu())\n",
        "        self.layers.append(Dropout(0.3))\n",
        "        \n",
        "        self.layers.append(Affine(self.params['W' + str(affineCount+2)], self.params['b' + str(affineCount+2)])) \n",
        "        self.last_layer = SoftmaxWithLoss() \n",
        "        \n",
        "        self.targetLayer = []\n",
        "        self.targetCount = 0\n",
        "        \n",
        "        for i, layer in enumerate(self.layers):\n",
        "            if isinstance(layer, Convolution) | isinstance(layer, Affine): \n",
        "                self.targetLayer.append(i)\n",
        "                self.targetCount += 1\n",
        "            elif isinstance(layer, BatchNormalization):\n",
        "                self.targetLayer.append(str(i))\n",
        "                self.targetCount += 1\n",
        "\n",
        "    def predict(self, x, train_flg=True):\n",
        "        for layer in self.layers:\n",
        "          if isinstance(layer, Dropout) | isinstance(layer, BatchNormalization):\n",
        "            x = layer.forward(x, train_flg)\n",
        "          else:\n",
        "            x = layer.forward(x)\n",
        "\n",
        "        return x\n",
        "\n",
        "    def loss(self, x, t, train_flg=True):\n",
        "        \"\"\"손실 함수를 구한다.\n",
        "\n",
        "        Parameters\n",
        "        ----------\n",
        "        x : 입력 데이터\n",
        "        t : 정답 레이블\n",
        "        \"\"\"\n",
        "        y = self.predict(x, train_flg)\n",
        "        weight_decay = 0\n",
        "        normalIdx = 0\n",
        "        for idx in self.targetLayer:\n",
        "            if type(idx) == int:\n",
        "              normalIdx += 1\n",
        "              W = self.params['W' + str(normalIdx)]\n",
        "              weight_decay += 0.5 * self.weight_decay_lambda * np.sum(W**2)\n",
        "\n",
        "        return self.last_layer.forward(y, t) + weight_decay\n",
        "\n",
        "    def accuracy(self, x, t, batch_size=100):\n",
        "        if t.ndim != 1 : t = cp.argmax(t, axis=1)\n",
        "        \n",
        "        acc = 0.0\n",
        "        \n",
        "        for i in range(int(x.shape[0] / batch_size)):\n",
        "            tx = x[i*batch_size:(i+1)*batch_size]\n",
        "            tt = t[i*batch_size:(i+1)*batch_size]\n",
        "            y = self.predict(tx, train_flg=False)\n",
        "            y = cp.argmax(y, axis=1)\n",
        "            acc += cp.sum(y == tt) \n",
        "        \n",
        "        return acc / x.shape[0]\n",
        "\n",
        "    def numerical_gradient(self, x, t):\n",
        "        \"\"\"기울기를 구한다（수치미분）.\n",
        "\n",
        "        Parameters\n",
        "        ----------\n",
        "        x : 입력 데이터\n",
        "        t : 정답 레이블\n",
        "\n",
        "        Returns\n",
        "        -------\n",
        "        각 층의 기울기를 담은 사전(dictionary) 변수\n",
        "            grads['W1']、grads['W2']、... 각 층의 가중치\n",
        "            grads['b1']、grads['b2']、... 각 층의 편향\n",
        "        \"\"\"\n",
        "        loss_w = lambda w: self.loss(x, t)\n",
        "\n",
        "        grads = {}\n",
        "        \n",
        "        normalIdx = 0\n",
        "        batchIdx = 0\n",
        "        for layer_idx in self.targetLayer:\n",
        "            if type(layer_idx) == int:\n",
        "                normalIdx += 1\n",
        "                grads['W' + str(normalIdx)] = numerical_gradient(loss_w, self.params['W' + str(normalIdx)])\n",
        "                grads['b' + str(normalIdx)] = numerical_gradient(loss_w, self.params['b' + str(normalIdx)])\n",
        "            elif type(layer_idx) == str:\n",
        "                batchIdx += 1\n",
        "                grads['gamma' + str(batchIdx)] = numerical_gradient(loss_w, self.params['gamma' + str(batchIdx)])\n",
        "                grads['beta' + str(batchIdx)] = numerical_gradient(loss_w, self.params['beta' + str(batchIdx)])\n",
        "        \n",
        "        return grads\n",
        "\n",
        "    def gradient(self, x, t):\n",
        "        \"\"\"기울기를 구한다(오차역전파법).\n",
        "\n",
        "        Parameters\n",
        "        ----------\n",
        "        x : 입력 데이터\n",
        "        t : 정답 레이블\n",
        "\n",
        "        Returns\n",
        "        -------\n",
        "        각 층의 기울기를 담은 사전(dictionary) 변수\n",
        "            grads['W1']、grads['W2']、... 각 층의 가중치\n",
        "            grads['b1']、grads['b2']、... 각 층의 편향\n",
        "        \"\"\"\n",
        "        # forward\n",
        "        self.loss(x, t)\n",
        "\n",
        "        # backward\n",
        "        dout = 1\n",
        "        dout = self.last_layer.backward(dout)\n",
        "        \n",
        "        tmp_layers = self.layers.copy()\n",
        "        tmp_layers.reverse()\n",
        "        for layer in tmp_layers:\n",
        "            dout = layer.backward(dout)\n",
        "\n",
        "        # 결과 저장\n",
        "        grads = {}\n",
        "        \n",
        "        normalIdx = 0\n",
        "        batchIdx = 0\n",
        "                \n",
        "        for layer_idx in self.targetLayer:\n",
        "            if type(layer_idx) == int:\n",
        "                normalIdx += 1\n",
        "                grads['W' + str(normalIdx)] = self.layers[layer_idx].dW + self.weight_decay_lambda * self.params['W' + str(normalIdx)]\n",
        "                grads['b' + str(normalIdx)] = self.layers[layer_idx].db\n",
        "            elif type(layer_idx) == str:\n",
        "                batchIdx += 1\n",
        "                grads['gamma' + str(batchIdx)] = self.layers[int(layer_idx)].dgamma\n",
        "                grads['beta' + str(batchIdx)] = self.layers[int(layer_idx)].dbeta\n",
        "       \n",
        "            \n",
        "        return grads\n",
        "\n",
        "\n",
        "    def save_params(self, file_name=\"params.pkl\"):\n",
        "        params = {}\n",
        "        for key, val in self.params.items():\n",
        "            params[key] = val\n",
        "        with open(file_name, 'wb') as f:\n",
        "            pickle.dump(params, f)\n",
        "\n",
        "    def load_params(self, file_name=\"params.pkl\"):\n",
        "        with open(file_name, 'rb') as f:\n",
        "            params = pickle.load(f)\n",
        "        for key, val in params.items():\n",
        "            self.params[key] = val\n",
        "      \n",
        "        normalIdx = 0\n",
        "        batchIdx = 0\n",
        "        for layer_idx in enumerate(self.targetLayer):\n",
        "            self.layers[layer_idx].W = self.params['W' + str(i+1)]\n",
        "            self.layers[layer_idx].b = self.params['b' + str(i+1)]\n",
        "            \n",
        "        for layer_idx in self.targetLayer:\n",
        "            if type(layer_idx) == int:\n",
        "                normalIdx += 1\n",
        "                self.layers[layer_idx].W = self.params['W' + str(normalIdx)]\n",
        "                self.layers[layer_idx].b = self.params['b' + str(normalIdx)]\n",
        "            elif type(layer_idx) == str:\n",
        "                batchIdx += 1\n",
        "                self.layers[int(layer_idx)].dgamma = self.params['dgamma' + str(batchIdx)]\n",
        "                self.layers[int(layer_idx)].dbeta = self.params['dbeta' + str(batchIdx)]\n",
        "            "
      ],
      "execution_count": 7,
      "outputs": []
    },
    {
      "metadata": {
        "id": "8T4cJZqXTKsv",
        "colab_type": "text"
      },
      "cell_type": "markdown",
      "source": [
        "# Step 7 - execute code"
      ]
    },
    {
      "metadata": {
        "id": "4lMbW7VjgHsL",
        "colab_type": "code",
        "colab": {
          "autoexec": {
            "startup": false,
            "wait_interval": 0
          },
          "base_uri": "https://localhost:8080/",
          "height": 3570
        },
        "outputId": "d711995b-16d9-41d8-c94b-24e3581c9cd9",
        "executionInfo": {
          "status": "ok",
          "timestamp": 1530166549589,
          "user_tz": -540,
          "elapsed": 25939588,
          "user": {
            "displayName": "Kim Revine",
            "photoUrl": "https://lh3.googleusercontent.com/a/default-user=s128",
            "userId": "105397506758897638550"
          }
        }
      },
      "cell_type": "code",
      "source": [
        "# randomSeed\n",
        "cp.random.seed(9)\n",
        "np.random.seed(9)\n",
        "\n",
        "# 데이터 읽기\n",
        "(x_train, t_train), (x_test, t_test) = tf.keras.datasets.fashion_mnist.load_data()\n",
        "\n",
        "t_train = Augmentor.Pipeline.categorical_labels(t_train)\n",
        "t_test = Augmentor.Pipeline.categorical_labels(t_test)\n",
        "\n",
        "x_train= np.expand_dims(x_train,axis=1)\n",
        "x_test= np.expand_dims(x_test,axis=1)\n",
        "\n",
        "\n",
        "# 0-1로 정규화\n",
        "x_train = (x_train.astype(cp.float32))/255\n",
        "x_test = (x_test.astype(cp.float32))/255\n",
        "\n",
        "# cp 변환\n",
        "x_train = cp.array(x_train)\n",
        "x_test = cp.array(x_test)\n",
        "t_train = cp.array(t_train)\n",
        "t_test = cp.array(t_test)\n",
        "\n",
        "max_epochs = 100\n",
        "batch_size = 128\n",
        "\n",
        "network = PPNet(input_dim=(1, 28, 28), \n",
        "                 conv_param_1={'filter_num':64, 'filter_size':3, 'pad':1, 'stride':1},\n",
        "                 conv_param_2={'filter_num':64, 'filter_size':3, 'pad':1, 'stride':1},\n",
        "                 hidden_size=256, output_size=10, weight_init_std='he', weight_decay_lambda = 1e-6)              \n",
        "trainer = Trainer(network, x_train, t_train, x_test, t_test,\n",
        "                  epochs=max_epochs, mini_batch_size=batch_size,\n",
        "                  optimizer='Adam', optimizer_param={'lr': 0.001},\n",
        "                  evaluate_sample_num_per_epoch=10000, name=\"train1model\")\n",
        "\n",
        "network2 = PPNet(input_dim=(1, 28, 28), \n",
        "                 conv_param_1={'filter_num':64, 'filter_size':3, 'pad':1, 'stride':1},\n",
        "                 conv_param_2={'filter_num':64, 'filter_size':3, 'pad':1, 'stride':1},\n",
        "                 hidden_size=256, output_size=10, weight_init_std='he', weight_decay_lambda = 1e-6)    \n",
        "\n",
        "trainer2 = Trainer(network2, x_train, t_train, x_test, t_test,\n",
        "                  epochs=max_epochs, mini_batch_size=batch_size,\n",
        "                  optimizer='Adam', optimizer_param={'lr': 0.001},\n",
        "                  evaluate_sample_num_per_epoch=10000,  name=\"train2model\")\n",
        "\n",
        "\n",
        "# 시간 체크\n",
        "start_time = time.time()\n",
        "trainer.train()\n",
        "trainer2.train()\n",
        "\n",
        "\n",
        "# 체크 종료\n",
        "end_time = time.time() - start_time\n",
        "print(\"PPNet took for % seconds\" % end_time)\n",
        "\n",
        "# 매개변수 보관\n",
        "network.save_params(\"params.pkl\")\n",
        "print(\"Saved Network Parameters!\")\n",
        "\n",
        "# 매개변수 보관\n",
        "network2.save_params(\"params2.pkl\")\n",
        "print(\"Saved Network Parameters!\")\n"
      ],
      "execution_count": 9,
      "outputs": [
        {
          "output_type": "stream",
          "text": [
            "[9, 12544, 3136, 256, 64]\n",
            "[9, 12544, 3136, 256, 64]\n",
            "=== epoch:1, train acc:0.145, test acc:0.1413, train loss:2.101812607323096, time :11 seconds  ===\n",
            "=== epoch:2, train acc:0.8986, test acc:0.8873, train loss:0.46810909247308197, time :136 seconds  ===\n"
          ],
          "name": "stdout"
        },
        {
          "output_type": "stream",
          "text": [
            "=== epoch:3, train acc:0.9118, test acc:0.8965, train loss:0.2669435785330751, time :137 seconds  ===\n",
            "=== epoch:4, train acc:0.9215, test acc:0.9049, train loss:0.3049719840951049, time :136 seconds  ===\n"
          ],
          "name": "stdout"
        },
        {
          "output_type": "stream",
          "text": [
            "=== epoch:5, train acc:0.9244, test acc:0.9069, train loss:0.32037658037719596, time :136 seconds  ===\n",
            "=== epoch:6, train acc:0.9317, test acc:0.9124, train loss:0.2658658362057627, time :136 seconds  ===\n"
          ],
          "name": "stdout"
        },
        {
          "output_type": "stream",
          "text": [
            "=== epoch:7, train acc:0.9343, test acc:0.913, train loss:0.240373029543633, time :136 seconds  ===\n",
            "=== epoch:8, train acc:0.9356, test acc:0.9128, train loss:0.3265792990415064, time :136 seconds  ===\n"
          ],
          "name": "stdout"
        },
        {
          "output_type": "stream",
          "text": [
            "=== epoch:9, train acc:0.9373, test acc:0.9154, train loss:0.22980286420015497, time :136 seconds  ===\n",
            "=== epoch:10, train acc:0.9439, test acc:0.9186, train loss:0.14797412629633808, time :136 seconds  ===\n"
          ],
          "name": "stdout"
        },
        {
          "output_type": "stream",
          "text": [
            "=== epoch:11, train acc:0.9459, test acc:0.9191, train loss:0.17093622298119243, time :136 seconds  ===\n",
            "=== epoch:12, train acc:0.9451, test acc:0.9232, train loss:0.2581074006515009, time :136 seconds  ===\n"
          ],
          "name": "stdout"
        },
        {
          "output_type": "stream",
          "text": [
            "=== epoch:13, train acc:0.9484, test acc:0.9217, train loss:0.21306079601833447, time :136 seconds  ===\n",
            "=== epoch:14, train acc:0.9496, test acc:0.9228, train loss:0.1627567422300157, time :136 seconds  ===\n"
          ],
          "name": "stdout"
        },
        {
          "output_type": "stream",
          "text": [
            "=== epoch:15, train acc:0.9535, test acc:0.9227, train loss:0.18104395399763273, time :136 seconds  ===\n",
            "=== epoch:16, train acc:0.9561, test acc:0.9248, train loss:0.2460755937197586, time :136 seconds  ===\n"
          ],
          "name": "stdout"
        },
        {
          "output_type": "stream",
          "text": [
            "=== epoch:17, train acc:0.9563, test acc:0.9259, train loss:0.17300098615204454, time :136 seconds  ===\n",
            "=== epoch:18, train acc:0.9571, test acc:0.9266, train loss:0.23204054756048906, time :136 seconds  ===\n"
          ],
          "name": "stdout"
        },
        {
          "output_type": "stream",
          "text": [
            "=== epoch:19, train acc:0.9582, test acc:0.9266, train loss:0.17793883950848674, time :136 seconds  ===\n",
            "=== epoch:20, train acc:0.9601, test acc:0.926, train loss:0.10675235548607988, time :136 seconds  ===\n"
          ],
          "name": "stdout"
        },
        {
          "output_type": "stream",
          "text": [
            "=== epoch:21, train acc:0.96, test acc:0.9252, train loss:0.1764654008682587, time :136 seconds  ===\n",
            "=== epoch:22, train acc:0.9606, test acc:0.9253, train loss:0.13232634516522232, time :136 seconds  ===\n"
          ],
          "name": "stdout"
        },
        {
          "output_type": "stream",
          "text": [
            "=== epoch:23, train acc:0.9636, test acc:0.9271, train loss:0.18124706386406758, time :137 seconds  ===\n",
            "=== epoch:24, train acc:0.9659, test acc:0.9287, train loss:0.21665762519229723, time :136 seconds  ===\n"
          ],
          "name": "stdout"
        },
        {
          "output_type": "stream",
          "text": [
            "=== epoch:25, train acc:0.964, test acc:0.9248, train loss:0.09854610114716301, time :136 seconds  ===\n",
            "=== epoch:26, train acc:0.9687, test acc:0.9292, train loss:0.2952923205342935, time :136 seconds  ===\n"
          ],
          "name": "stdout"
        },
        {
          "output_type": "stream",
          "text": [
            "=== epoch:27, train acc:0.9702, test acc:0.9307, train loss:0.1254295298023292, time :136 seconds  ===\n",
            "=== epoch:28, train acc:0.9716, test acc:0.9323, train loss:0.12079672894102284, time :136 seconds  ===\n"
          ],
          "name": "stdout"
        },
        {
          "output_type": "stream",
          "text": [
            "=== epoch:29, train acc:0.9699, test acc:0.9273, train loss:0.3404042196334264, time :136 seconds  ===\n",
            "=== epoch:30, train acc:0.9724, test acc:0.9301, train loss:0.08026574903095565, time :136 seconds  ===\n"
          ],
          "name": "stdout"
        },
        {
          "output_type": "stream",
          "text": [
            "=== epoch:31, train acc:0.9713, test acc:0.9305, train loss:0.15305061097108613, time :136 seconds  ===\n",
            "=== epoch:32, train acc:0.9754, test acc:0.931, train loss:0.13506238093170897, time :136 seconds  ===\n"
          ],
          "name": "stdout"
        },
        {
          "output_type": "stream",
          "text": [
            "=== epoch:33, train acc:0.9763, test acc:0.9326, train loss:0.17352743582820485, time :136 seconds  ===\n",
            "=== epoch:34, train acc:0.9751, test acc:0.9318, train loss:0.16089488242227612, time :136 seconds  ===\n"
          ],
          "name": "stdout"
        },
        {
          "output_type": "stream",
          "text": [
            "=== epoch:35, train acc:0.9744, test acc:0.9323, train loss:0.171557252272667, time :136 seconds  ===\n",
            "=== epoch:36, train acc:0.9775, test acc:0.9326, train loss:0.1353937278082169, time :136 seconds  ===\n"
          ],
          "name": "stdout"
        },
        {
          "output_type": "stream",
          "text": [
            "=== epoch:37, train acc:0.9749, test acc:0.9337, train loss:0.12217534749360529, time :136 seconds  ===\n",
            "=== epoch:38, train acc:0.9782, test acc:0.9321, train loss:0.19035749208507052, time :136 seconds  ===\n"
          ],
          "name": "stdout"
        },
        {
          "output_type": "stream",
          "text": [
            "=== epoch:39, train acc:0.9786, test acc:0.9323, train loss:0.13530769636513662, time :136 seconds  ===\n",
            "=== epoch:40, train acc:0.979, test acc:0.9331, train loss:0.10976087412281223, time :136 seconds  ===\n"
          ],
          "name": "stdout"
        },
        {
          "output_type": "stream",
          "text": [
            "=== epoch:41, train acc:0.9804, test acc:0.9319, train loss:0.09282534530181309, time :136 seconds  ===\n",
            "=== epoch:42, train acc:0.9771, test acc:0.9305, train loss:0.11893083998437363, time :136 seconds  ===\n"
          ],
          "name": "stdout"
        },
        {
          "output_type": "stream",
          "text": [
            "=== epoch:43, train acc:0.984, test acc:0.9321, train loss:0.17970768023908204, time :136 seconds  ===\n",
            "=== epoch:44, train acc:0.9827, test acc:0.9348, train loss:0.09966413446766831, time :136 seconds  ===\n"
          ],
          "name": "stdout"
        },
        {
          "output_type": "stream",
          "text": [
            "=== epoch:45, train acc:0.983, test acc:0.9355, train loss:0.14025182654806484, time :136 seconds  ===\n",
            "=== epoch:46, train acc:0.9842, test acc:0.9327, train loss:0.07842770488874053, time :136 seconds  ===\n"
          ],
          "name": "stdout"
        },
        {
          "output_type": "stream",
          "text": [
            "=== epoch:47, train acc:0.9836, test acc:0.9334, train loss:0.13165719683540275, time :136 seconds  ===\n",
            "=== epoch:48, train acc:0.9819, test acc:0.9317, train loss:0.10576348435906834, time :136 seconds  ===\n"
          ],
          "name": "stdout"
        },
        {
          "output_type": "stream",
          "text": [
            "=== epoch:49, train acc:0.9844, test acc:0.9343, train loss:0.08715657996147161, time :136 seconds  ===\n",
            "=== epoch:50, train acc:0.9848, test acc:0.9315, train loss:0.18489687115070633, time :136 seconds  ===\n"
          ],
          "name": "stdout"
        },
        {
          "output_type": "stream",
          "text": [
            "=== epoch:51, train acc:0.9861, test acc:0.9337, train loss:0.17866605234680943, time :136 seconds  ===\n",
            "=== epoch:52, train acc:0.986, test acc:0.9348, train loss:0.060822366623299505, time :136 seconds  ===\n"
          ],
          "name": "stdout"
        },
        {
          "output_type": "stream",
          "text": [
            "=== epoch:53, train acc:0.9845, test acc:0.9321, train loss:0.07030936390616489, time :136 seconds  ===\n",
            "=== epoch:54, train acc:0.9872, test acc:0.9351, train loss:0.1948298090076566, time :136 seconds  ===\n"
          ],
          "name": "stdout"
        },
        {
          "output_type": "stream",
          "text": [
            "=== epoch:55, train acc:0.9863, test acc:0.9317, train loss:0.1433579326704384, time :136 seconds  ===\n",
            "=== epoch:56, train acc:0.9867, test acc:0.9343, train loss:0.1095616183366604, time :136 seconds  ===\n"
          ],
          "name": "stdout"
        },
        {
          "output_type": "stream",
          "text": [
            "=== epoch:57, train acc:0.9867, test acc:0.9322, train loss:0.08441906394096735, time :136 seconds  ===\n",
            "=== epoch:58, train acc:0.9878, test acc:0.9343, train loss:0.1407181844547134, time :136 seconds  ===\n"
          ],
          "name": "stdout"
        },
        {
          "output_type": "stream",
          "text": [
            "=== epoch:59, train acc:0.9879, test acc:0.9346, train loss:0.12958483214516273, time :136 seconds  ===\n",
            "=== epoch:60, train acc:0.9877, test acc:0.9353, train loss:0.07144888859409035, time :136 seconds  ===\n"
          ],
          "name": "stdout"
        },
        {
          "output_type": "stream",
          "text": [
            "=== epoch:61, train acc:0.9897, test acc:0.9338, train loss:0.1827086516437132, time :135 seconds  ===\n",
            "=== epoch:62, train acc:0.9894, test acc:0.9344, train loss:0.08019454445522581, time :136 seconds  ===\n"
          ],
          "name": "stdout"
        },
        {
          "output_type": "stream",
          "text": [
            "=== epoch:63, train acc:0.9883, test acc:0.9346, train loss:0.09050537912427359, time :136 seconds  ===\n",
            "=== epoch:64, train acc:0.9884, test acc:0.9307, train loss:0.14177838332500695, time :135 seconds  ===\n"
          ],
          "name": "stdout"
        },
        {
          "output_type": "stream",
          "text": [
            "=== epoch:65, train acc:0.9893, test acc:0.9346, train loss:0.07169266383541027, time :136 seconds  ===\n",
            "=== epoch:66, train acc:0.9914, test acc:0.932, train loss:0.0854521384961914, time :136 seconds  ===\n"
          ],
          "name": "stdout"
        },
        {
          "output_type": "stream",
          "text": [
            "=== epoch:67, train acc:0.9923, test acc:0.9344, train loss:0.16086578674925217, time :136 seconds  ===\n",
            "=== epoch:68, train acc:0.9915, test acc:0.9334, train loss:0.06439318256600302, time :136 seconds  ===\n"
          ],
          "name": "stdout"
        },
        {
          "output_type": "stream",
          "text": [
            "=== epoch:69, train acc:0.9916, test acc:0.9333, train loss:0.09673969020013724, time :136 seconds  ===\n",
            "=== epoch:70, train acc:0.9905, test acc:0.9326, train loss:0.1027768552907941, time :136 seconds  ===\n"
          ],
          "name": "stdout"
        },
        {
          "output_type": "stream",
          "text": [
            "=== epoch:71, train acc:0.9911, test acc:0.9332, train loss:0.0888384666291592, time :136 seconds  ===\n",
            "=== epoch:72, train acc:0.989, test acc:0.9283, train loss:0.10159782576737521, time :136 seconds  ===\n"
          ],
          "name": "stdout"
        },
        {
          "output_type": "stream",
          "text": [
            "=== epoch:73, train acc:0.9891, test acc:0.9287, train loss:0.07531802088743153, time :136 seconds  ===\n",
            "=== epoch:74, train acc:0.9907, test acc:0.9345, train loss:0.11037417028100574, time :136 seconds  ===\n"
          ],
          "name": "stdout"
        },
        {
          "output_type": "stream",
          "text": [
            "=== epoch:75, train acc:0.9917, test acc:0.9342, train loss:0.10412652956439514, time :136 seconds  ===\n",
            "=== epoch:76, train acc:0.9924, test acc:0.933, train loss:0.07122456832650881, time :136 seconds  ===\n"
          ],
          "name": "stdout"
        },
        {
          "output_type": "stream",
          "text": [
            "=== epoch:77, train acc:0.9921, test acc:0.9354, train loss:0.07688495914237349, time :136 seconds  ===\n",
            "=== epoch:78, train acc:0.9919, test acc:0.9345, train loss:0.10813693502633956, time :136 seconds  ===\n"
          ],
          "name": "stdout"
        },
        {
          "output_type": "stream",
          "text": [
            "=== epoch:79, train acc:0.9934, test acc:0.9349, train loss:0.0880133098976224, time :136 seconds  ===\n",
            "=== epoch:80, train acc:0.9937, test acc:0.934, train loss:0.1226164349104879, time :136 seconds  ===\n"
          ],
          "name": "stdout"
        },
        {
          "output_type": "stream",
          "text": [
            "=== epoch:81, train acc:0.9931, test acc:0.9341, train loss:0.07020025086190962, time :136 seconds  ===\n",
            "=== epoch:82, train acc:0.9946, test acc:0.9352, train loss:0.11527177835013942, time :136 seconds  ===\n"
          ],
          "name": "stdout"
        },
        {
          "output_type": "stream",
          "text": [
            "=== epoch:83, train acc:0.9948, test acc:0.9356, train loss:0.16361007118167098, time :136 seconds  ===\n",
            "=== epoch:84, train acc:0.9941, test acc:0.9335, train loss:0.07129124047790232, time :136 seconds  ===\n"
          ],
          "name": "stdout"
        },
        {
          "output_type": "stream",
          "text": [
            "=== epoch:85, train acc:0.9943, test acc:0.9339, train loss:0.05637533904111158, time :136 seconds  ===\n",
            "=== epoch:86, train acc:0.9945, test acc:0.9358, train loss:0.06815014557670675, time :136 seconds  ===\n"
          ],
          "name": "stdout"
        },
        {
          "output_type": "stream",
          "text": [
            "=== epoch:87, train acc:0.9944, test acc:0.934, train loss:0.14455251046887388, time :136 seconds  ===\n",
            "=== epoch:88, train acc:0.9937, test acc:0.9337, train loss:0.07602449978962955, time :136 seconds  ===\n"
          ],
          "name": "stdout"
        },
        {
          "output_type": "stream",
          "text": [
            "=== epoch:89, train acc:0.9955, test acc:0.9343, train loss:0.10838821293618751, time :136 seconds  ===\n",
            "=== epoch:90, train acc:0.9946, test acc:0.9312, train loss:0.1389398866910114, time :136 seconds  ===\n"
          ],
          "name": "stdout"
        },
        {
          "output_type": "stream",
          "text": [
            "=== epoch:91, train acc:0.995, test acc:0.9359, train loss:0.1367053115157208, time :136 seconds  ===\n",
            "=== epoch:92, train acc:0.9913, test acc:0.9302, train loss:0.052328237435622905, time :136 seconds  ===\n"
          ],
          "name": "stdout"
        },
        {
          "output_type": "stream",
          "text": [
            "=== epoch:93, train acc:0.9956, test acc:0.9352, train loss:0.05703200557143796, time :136 seconds  ===\n",
            "=== epoch:94, train acc:0.9942, test acc:0.9329, train loss:0.07304270277298375, time :136 seconds  ===\n"
          ],
          "name": "stdout"
        },
        {
          "output_type": "stream",
          "text": [
            "=== epoch:95, train acc:0.9962, test acc:0.9347, train loss:0.08660284429805476, time :136 seconds  ===\n",
            "=== epoch:96, train acc:0.9945, test acc:0.9352, train loss:0.14921441975429206, time :136 seconds  ===\n"
          ],
          "name": "stdout"
        },
        {
          "output_type": "stream",
          "text": [
            "=== epoch:97, train acc:0.9961, test acc:0.935, train loss:0.1196720499500904, time :136 seconds  ===\n",
            "=== epoch:98, train acc:0.9948, test acc:0.9331, train loss:0.11553005620819513, time :122 seconds  ===\n"
          ],
          "name": "stdout"
        },
        {
          "output_type": "stream",
          "text": [
            "=== epoch:99, train acc:0.9948, test acc:0.9337, train loss:0.1253434128125255, time :86 seconds  ===\n",
            "=== epoch:100, train acc:0.9961, test acc:0.9339, train loss:0.08142847634564432, time :75 seconds  ===\n",
            "=============== train1model Test Accuracy ===============\n",
            "test acc:0.9346\n",
            "=== epoch:1, train acc:0.267, test acc:0.2697, train loss:2.0686705209323555, time :13503 seconds  ===\n"
          ],
          "name": "stdout"
        },
        {
          "output_type": "stream",
          "text": [
            "=== epoch:2, train acc:0.8958, test acc:0.8818, train loss:0.3759167547731505, time :132 seconds  ===\n",
            "=== epoch:3, train acc:0.9046, test acc:0.8903, train loss:0.3185505720398976, time :101 seconds  ===\n"
          ],
          "name": "stdout"
        },
        {
          "output_type": "stream",
          "text": [
            "=== epoch:4, train acc:0.8998, test acc:0.8823, train loss:0.4377479486049468, time :132 seconds  ===\n",
            "=== epoch:5, train acc:0.9229, test acc:0.9028, train loss:0.27153683621519675, time :133 seconds  ===\n"
          ],
          "name": "stdout"
        },
        {
          "output_type": "stream",
          "text": [
            "=== epoch:6, train acc:0.9253, test acc:0.9099, train loss:0.354754801249604, time :133 seconds  ===\n",
            "=== epoch:7, train acc:0.9319, test acc:0.9129, train loss:0.35669186481550036, time :132 seconds  ===\n"
          ],
          "name": "stdout"
        },
        {
          "output_type": "stream",
          "text": [
            "=== epoch:8, train acc:0.9362, test acc:0.9111, train loss:0.23554551644789512, time :132 seconds  ===\n",
            "=== epoch:9, train acc:0.939, test acc:0.9159, train loss:0.2839290183964219, time :133 seconds  ===\n"
          ],
          "name": "stdout"
        },
        {
          "output_type": "stream",
          "text": [
            "=== epoch:10, train acc:0.9426, test acc:0.9189, train loss:0.20005438678696408, time :131 seconds  ===\n",
            "=== epoch:11, train acc:0.9484, test acc:0.9223, train loss:0.1931663874080469, time :132 seconds  ===\n"
          ],
          "name": "stdout"
        },
        {
          "output_type": "stream",
          "text": [
            "=== epoch:12, train acc:0.9449, test acc:0.9207, train loss:0.20149744095287897, time :132 seconds  ===\n",
            "=== epoch:13, train acc:0.9506, test acc:0.9241, train loss:0.17451280310503284, time :133 seconds  ===\n"
          ],
          "name": "stdout"
        },
        {
          "output_type": "stream",
          "text": [
            "=== epoch:14, train acc:0.9473, test acc:0.9187, train loss:0.18370378836856258, time :132 seconds  ===\n",
            "=== epoch:15, train acc:0.9537, test acc:0.9262, train loss:0.16278078201118446, time :132 seconds  ===\n"
          ],
          "name": "stdout"
        },
        {
          "output_type": "stream",
          "text": [
            "=== epoch:16, train acc:0.956, test acc:0.9289, train loss:0.17302528337586895, time :132 seconds  ===\n",
            "=== epoch:17, train acc:0.9579, test acc:0.9274, train loss:0.2018577185932312, time :132 seconds  ===\n"
          ],
          "name": "stdout"
        },
        {
          "output_type": "stream",
          "text": [
            "=== epoch:18, train acc:0.9543, test acc:0.9239, train loss:0.12126311057748888, time :132 seconds  ===\n",
            "=== epoch:19, train acc:0.9589, test acc:0.9297, train loss:0.18483834984029177, time :131 seconds  ===\n"
          ],
          "name": "stdout"
        },
        {
          "output_type": "stream",
          "text": [
            "=== epoch:20, train acc:0.9592, test acc:0.9269, train loss:0.19547796076875276, time :131 seconds  ===\n",
            "=== epoch:21, train acc:0.9603, test acc:0.9243, train loss:0.1492879974596293, time :131 seconds  ===\n"
          ],
          "name": "stdout"
        },
        {
          "output_type": "stream",
          "text": [
            "=== epoch:22, train acc:0.9621, test acc:0.9291, train loss:0.11632535260104551, time :132 seconds  ===\n",
            "=== epoch:23, train acc:0.9631, test acc:0.9294, train loss:0.1463567319134736, time :131 seconds  ===\n"
          ],
          "name": "stdout"
        },
        {
          "output_type": "stream",
          "text": [
            "=== epoch:24, train acc:0.9666, test acc:0.9307, train loss:0.15468582672428022, time :131 seconds  ===\n",
            "=== epoch:25, train acc:0.9632, test acc:0.9265, train loss:0.1863517311584259, time :131 seconds  ===\n"
          ],
          "name": "stdout"
        },
        {
          "output_type": "stream",
          "text": [
            "=== epoch:26, train acc:0.9677, test acc:0.929, train loss:0.16414389222352965, time :131 seconds  ===\n",
            "=== epoch:27, train acc:0.9713, test acc:0.9322, train loss:0.1905440486080636, time :131 seconds  ===\n"
          ],
          "name": "stdout"
        },
        {
          "output_type": "stream",
          "text": [
            "=== epoch:28, train acc:0.9723, test acc:0.9308, train loss:0.18486438342500458, time :131 seconds  ===\n",
            "=== epoch:29, train acc:0.9735, test acc:0.9327, train loss:0.17414279208375857, time :129 seconds  ===\n"
          ],
          "name": "stdout"
        },
        {
          "output_type": "stream",
          "text": [
            "=== epoch:30, train acc:0.9729, test acc:0.9318, train loss:0.22606677964532462, time :130 seconds  ===\n",
            "=== epoch:31, train acc:0.9744, test acc:0.9301, train loss:0.19211434306457212, time :132 seconds  ===\n"
          ],
          "name": "stdout"
        },
        {
          "output_type": "stream",
          "text": [
            "=== epoch:32, train acc:0.9753, test acc:0.9323, train loss:0.1578993307378688, time :131 seconds  ===\n",
            "=== epoch:33, train acc:0.9676, test acc:0.9254, train loss:0.12326684790480674, time :133 seconds  ===\n"
          ],
          "name": "stdout"
        },
        {
          "output_type": "stream",
          "text": [
            "=== epoch:34, train acc:0.9765, test acc:0.934, train loss:0.15100553908924094, time :132 seconds  ===\n",
            "=== epoch:35, train acc:0.977, test acc:0.9331, train loss:0.26073550928161987, time :133 seconds  ===\n"
          ],
          "name": "stdout"
        },
        {
          "output_type": "stream",
          "text": [
            "=== epoch:36, train acc:0.9767, test acc:0.9345, train loss:0.218914734160535, time :132 seconds  ===\n",
            "=== epoch:37, train acc:0.9781, test acc:0.931, train loss:0.11771761395068307, time :132 seconds  ===\n"
          ],
          "name": "stdout"
        },
        {
          "output_type": "stream",
          "text": [
            "=== epoch:38, train acc:0.9791, test acc:0.9342, train loss:0.14010165268041458, time :132 seconds  ===\n",
            "=== epoch:39, train acc:0.977, test acc:0.9328, train loss:0.14152839600577186, time :132 seconds  ===\n"
          ],
          "name": "stdout"
        },
        {
          "output_type": "stream",
          "text": [
            "=== epoch:40, train acc:0.9797, test acc:0.9345, train loss:0.14759070126787685, time :132 seconds  ===\n",
            "=== epoch:41, train acc:0.9822, test acc:0.9321, train loss:0.09541441878546832, time :131 seconds  ===\n"
          ],
          "name": "stdout"
        },
        {
          "output_type": "stream",
          "text": [
            "=== epoch:42, train acc:0.9813, test acc:0.932, train loss:0.25542349107063145, time :132 seconds  ===\n",
            "=== epoch:43, train acc:0.9804, test acc:0.9338, train loss:0.15428038442378916, time :132 seconds  ===\n"
          ],
          "name": "stdout"
        },
        {
          "output_type": "stream",
          "text": [
            "=== epoch:44, train acc:0.9846, test acc:0.9346, train loss:0.10390103923315169, time :133 seconds  ===\n",
            "=== epoch:45, train acc:0.9822, test acc:0.9322, train loss:0.17315175165023608, time :132 seconds  ===\n"
          ],
          "name": "stdout"
        },
        {
          "output_type": "stream",
          "text": [
            "=== epoch:46, train acc:0.9812, test acc:0.9332, train loss:0.059263678727809396, time :132 seconds  ===\n",
            "=== epoch:47, train acc:0.9819, test acc:0.9338, train loss:0.15290043131262854, time :132 seconds  ===\n"
          ],
          "name": "stdout"
        },
        {
          "output_type": "stream",
          "text": [
            "=== epoch:48, train acc:0.9808, test acc:0.9307, train loss:0.16824434155602247, time :132 seconds  ===\n",
            "=== epoch:49, train acc:0.9829, test acc:0.9357, train loss:0.1454923425450509, time :132 seconds  ===\n"
          ],
          "name": "stdout"
        },
        {
          "output_type": "stream",
          "text": [
            "=== epoch:50, train acc:0.9839, test acc:0.9303, train loss:0.10208323546328457, time :132 seconds  ===\n",
            "=== epoch:51, train acc:0.9862, test acc:0.934, train loss:0.12081193632678841, time :133 seconds  ===\n"
          ],
          "name": "stdout"
        },
        {
          "output_type": "stream",
          "text": [
            "=== epoch:52, train acc:0.9851, test acc:0.9358, train loss:0.08897969503899614, time :131 seconds  ===\n",
            "=== epoch:53, train acc:0.9871, test acc:0.9342, train loss:0.08155012849232905, time :131 seconds  ===\n"
          ],
          "name": "stdout"
        },
        {
          "output_type": "stream",
          "text": [
            "=== epoch:54, train acc:0.9864, test acc:0.935, train loss:0.09502917385631741, time :132 seconds  ===\n",
            "=== epoch:55, train acc:0.9879, test acc:0.9322, train loss:0.14221574073917712, time :132 seconds  ===\n"
          ],
          "name": "stdout"
        },
        {
          "output_type": "stream",
          "text": [
            "=== epoch:56, train acc:0.9858, test acc:0.9311, train loss:0.11445934236776707, time :132 seconds  ===\n",
            "=== epoch:57, train acc:0.9881, test acc:0.9343, train loss:0.13605702211979068, time :133 seconds  ===\n"
          ],
          "name": "stdout"
        },
        {
          "output_type": "stream",
          "text": [
            "=== epoch:58, train acc:0.9876, test acc:0.9339, train loss:0.09186837727777356, time :131 seconds  ===\n",
            "=== epoch:59, train acc:0.9876, test acc:0.935, train loss:0.1451476919268023, time :131 seconds  ===\n"
          ],
          "name": "stdout"
        },
        {
          "output_type": "stream",
          "text": [
            "=== epoch:60, train acc:0.9875, test acc:0.9302, train loss:0.11342809304123674, time :78 seconds  ===\n",
            "=== epoch:61, train acc:0.9877, test acc:0.9325, train loss:0.05118341345531313, time :75 seconds  ===\n",
            "=== epoch:62, train acc:0.9877, test acc:0.9343, train loss:0.09952206330835144, time :75 seconds  ===\n"
          ],
          "name": "stdout"
        },
        {
          "output_type": "stream",
          "text": [
            "=== epoch:63, train acc:0.9864, test acc:0.9336, train loss:0.09781070487937502, time :75 seconds  ===\n",
            "=== epoch:64, train acc:0.9802, test acc:0.9261, train loss:0.1259413285625892, time :75 seconds  ===\n",
            "=== epoch:65, train acc:0.989, test acc:0.9354, train loss:0.12167202500558272, time :76 seconds  ===\n"
          ],
          "name": "stdout"
        },
        {
          "output_type": "stream",
          "text": [
            "=== epoch:66, train acc:0.9895, test acc:0.9347, train loss:0.12074657470860257, time :77 seconds  ===\n",
            "=== epoch:67, train acc:0.9898, test acc:0.9367, train loss:0.09111534223786943, time :77 seconds  ===\n",
            "=== epoch:68, train acc:0.9923, test acc:0.9358, train loss:0.08872038328578458, time :75 seconds  ===\n"
          ],
          "name": "stdout"
        },
        {
          "output_type": "stream",
          "text": [
            "=== epoch:69, train acc:0.9913, test acc:0.9339, train loss:0.08271233014649874, time :75 seconds  ===\n",
            "=== epoch:70, train acc:0.9884, test acc:0.9356, train loss:0.12079982070859417, time :77 seconds  ===\n",
            "=== epoch:71, train acc:0.9914, test acc:0.9342, train loss:0.054703007152681525, time :75 seconds  ===\n"
          ],
          "name": "stdout"
        },
        {
          "output_type": "stream",
          "text": [
            "=== epoch:72, train acc:0.991, test acc:0.9352, train loss:0.06088928851325872, time :75 seconds  ===\n",
            "=== epoch:73, train acc:0.992, test acc:0.9351, train loss:0.17387523263834057, time :77 seconds  ===\n",
            "=== epoch:74, train acc:0.9876, test acc:0.9293, train loss:0.058731361924850525, time :77 seconds  ===\n"
          ],
          "name": "stdout"
        },
        {
          "output_type": "stream",
          "text": [
            "=== epoch:75, train acc:0.9917, test acc:0.9324, train loss:0.12204909331515564, time :77 seconds  ===\n",
            "=== epoch:76, train acc:0.9921, test acc:0.9358, train loss:0.11160066606654237, time :105 seconds  ===\n"
          ],
          "name": "stdout"
        },
        {
          "output_type": "stream",
          "text": [
            "=== epoch:77, train acc:0.9922, test acc:0.9319, train loss:0.06375093259356918, time :139 seconds  ===\n",
            "=== epoch:78, train acc:0.9928, test acc:0.9351, train loss:0.13437473574775974, time :138 seconds  ===\n"
          ],
          "name": "stdout"
        },
        {
          "output_type": "stream",
          "text": [
            "=== epoch:79, train acc:0.9924, test acc:0.9319, train loss:0.08904463138210152, time :137 seconds  ===\n",
            "=== epoch:80, train acc:0.9943, test acc:0.9376, train loss:0.06922478736148831, time :138 seconds  ===\n"
          ],
          "name": "stdout"
        },
        {
          "output_type": "stream",
          "text": [
            "=== epoch:81, train acc:0.993, test acc:0.9363, train loss:0.04518628174169448, time :138 seconds  ===\n",
            "=== epoch:82, train acc:0.9931, test acc:0.9351, train loss:0.07095168461665664, time :137 seconds  ===\n"
          ],
          "name": "stdout"
        },
        {
          "output_type": "stream",
          "text": [
            "=== epoch:83, train acc:0.9939, test acc:0.9354, train loss:0.1855770402388234, time :139 seconds  ===\n",
            "=== epoch:84, train acc:0.9914, test acc:0.9322, train loss:0.14634395783758913, time :138 seconds  ===\n"
          ],
          "name": "stdout"
        },
        {
          "output_type": "stream",
          "text": [
            "=== epoch:85, train acc:0.9934, test acc:0.9327, train loss:0.1368735692047922, time :138 seconds  ===\n",
            "=== epoch:86, train acc:0.9932, test acc:0.934, train loss:0.2008283221181699, time :138 seconds  ===\n"
          ],
          "name": "stdout"
        },
        {
          "output_type": "stream",
          "text": [
            "=== epoch:87, train acc:0.9934, test acc:0.9316, train loss:0.061534889501070555, time :137 seconds  ===\n",
            "=== epoch:88, train acc:0.9952, test acc:0.9352, train loss:0.1605181453698463, time :138 seconds  ===\n"
          ],
          "name": "stdout"
        },
        {
          "output_type": "stream",
          "text": [
            "=== epoch:89, train acc:0.9948, test acc:0.9363, train loss:0.2039580636048266, time :139 seconds  ===\n",
            "=== epoch:90, train acc:0.9949, test acc:0.9339, train loss:0.17607622574669743, time :138 seconds  ===\n"
          ],
          "name": "stdout"
        },
        {
          "output_type": "stream",
          "text": [
            "=== epoch:91, train acc:0.9952, test acc:0.9356, train loss:0.09025830020244148, time :137 seconds  ===\n",
            "=== epoch:92, train acc:0.9943, test acc:0.9364, train loss:0.10533554305239298, time :139 seconds  ===\n"
          ],
          "name": "stdout"
        },
        {
          "output_type": "stream",
          "text": [
            "=== epoch:93, train acc:0.9955, test acc:0.9351, train loss:0.06908928085644592, time :138 seconds  ===\n",
            "=== epoch:94, train acc:0.9946, test acc:0.9321, train loss:0.07758254763666336, time :138 seconds  ===\n"
          ],
          "name": "stdout"
        },
        {
          "output_type": "stream",
          "text": [
            "=== epoch:95, train acc:0.9937, test acc:0.9327, train loss:0.06921183190960829, time :139 seconds  ===\n",
            "=== epoch:96, train acc:0.9961, test acc:0.9324, train loss:0.12368773130950113, time :139 seconds  ===\n"
          ],
          "name": "stdout"
        },
        {
          "output_type": "stream",
          "text": [
            "=== epoch:97, train acc:0.9956, test acc:0.9357, train loss:0.0986066673044466, time :139 seconds  ===\n",
            "=== epoch:98, train acc:0.9959, test acc:0.9346, train loss:0.11968140066225766, time :140 seconds  ===\n"
          ],
          "name": "stdout"
        },
        {
          "output_type": "stream",
          "text": [
            "=== epoch:99, train acc:0.9968, test acc:0.9355, train loss:0.101574438972149, time :138 seconds  ===\n",
            "=== epoch:100, train acc:0.9941, test acc:0.9339, train loss:0.1012879760402254, time :138 seconds  ===\n"
          ],
          "name": "stdout"
        },
        {
          "output_type": "stream",
          "text": [
            "=============== train2model Test Accuracy ===============\n",
            "test acc:0.9358\n",
            "PPNet took for 25936.946343898773econds\n",
            "Saved Network Parameters!\n",
            "Saved Network Parameters!\n"
          ],
          "name": "stdout"
        }
      ]
    },
    {
      "metadata": {
        "id": "t4Y_3yjWTIDn",
        "colab_type": "code",
        "colab": {
          "autoexec": {
            "startup": false,
            "wait_interval": 0
          },
          "base_uri": "https://localhost:8080/",
          "height": 37
        },
        "outputId": "6256f142-dec2-4687-c663-000ae32f9bd9",
        "executionInfo": {
          "status": "ok",
          "timestamp": 1530166554019,
          "user_tz": -540,
          "elapsed": 4396,
          "user": {
            "displayName": "Kim Revine",
            "photoUrl": "https://lh3.googleusercontent.com/a/default-user=s128",
            "userId": "105397506758897638550"
          }
        }
      },
      "cell_type": "code",
      "source": [
        "def ensemble(t1, t2, x, t, batch_size=100):\n",
        "    if t.ndim != 1 : t = cp.argmax(t, axis=1)\n",
        "\n",
        "    acc = 0.0\n",
        "    \n",
        "    for i in range(int(x.shape[0] / batch_size)):\n",
        "        tx = x[i*batch_size:(i+1)*batch_size]\n",
        "        tt = t[i*batch_size:(i+1)*batch_size]\n",
        "        y1 = t1.network.predict(tx, train_flg=False)\n",
        "        y2 = t2.network.predict(tx, train_flg=False)\n",
        "\n",
        "        y = (y1 + y2) / 2\n",
        "        y = cp.argmax(y, axis=1)\n",
        "        acc += cp.sum(y == tt)\n",
        "        \n",
        "    print(\"=============== Final Test Accuracy ===============\")\n",
        "    print(\"final acc:\" + str(acc/x.shape[0]))\n",
        "    \n",
        "    return acc / x.shape[0] "
      ],
      "execution_count": 10,
      "outputs": []
    },
    {
      "metadata": {
        "id": "ZJ7kWjFYQ84o",
        "colab_type": "code",
        "colab": {
          "autoexec": {
            "startup": false,
            "wait_interval": 0
          },
          "base_uri": "https://localhost:8080/",
          "height": 747
        },
        "outputId": "57a1edcc-5a8b-4a3e-b0fe-e311b8143af0",
        "executionInfo": {
          "status": "ok",
          "timestamp": 1530166566811,
          "user_tz": -540,
          "elapsed": 12666,
          "user": {
            "displayName": "Kim Revine",
            "photoUrl": "https://lh3.googleusercontent.com/a/default-user=s128",
            "userId": "105397506758897638550"
          }
        }
      },
      "cell_type": "code",
      "source": [
        "final = ensemble(trainer, trainer2, x_test, t_test)\n",
        "\n",
        "# 그래프 그리기\n",
        "\n",
        "markers = {'train': 'o', 'test': 's'}\n",
        "x = np.arange(max_epochs)\n",
        "plt.plot(x, trainer.train_acc_list, marker='o', label='train', markevery=2)\n",
        "plt.plot(x, trainer.test_acc_list, marker='s', label='test', markevery=2)\n",
        "plt.xlabel(\"epochs\")\n",
        "plt.ylabel(\"accuracy\")\n",
        "plt.ylim(0.8000, 1.0000)\n",
        "plt.legend(loc='lower right')\n",
        "plt.show()\n",
        "\n",
        "plt.plot(x, trainer2.train_acc_list, marker='o', label='train', markevery=2)\n",
        "plt.plot(x, trainer2.test_acc_list, marker='s', label='test', markevery=2)\n",
        "plt.xlabel(\"epochs\")\n",
        "plt.ylabel(\"accuracy\")\n",
        "plt.ylim(0.8000, 1.0000)\n",
        "plt.legend(loc='lower right')\n",
        "plt.show()\n",
        "\n"
      ],
      "execution_count": 11,
      "outputs": [
        {
          "output_type": "stream",
          "text": [
            "=============== Final Test Accuracy ===============\n",
            "final acc:0.9395\n"
          ],
          "name": "stdout"
        },
        {
          "output_type": "display_data",
          "data": {
            "image/png": "[encoded data removed]",
            "text/plain": [
              "<matplotlib.figure.Figure at 0x7f007a3f0438>"
            ]
          },
          "metadata": {
            "tags": []
          }
        },
        {
          "output_type": "display_data",
          "data": {
            "image/png": "[encoded data removed]",
            "text/plain": [
              "<matplotlib.figure.Figure at 0x7f0062525748>"
            ]
          },
          "metadata": {
            "tags": []
          }
        }
      ]
    }
  ]
}